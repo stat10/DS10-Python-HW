{
 "cells": [
  {
   "cell_type": "markdown",
   "metadata": {},
   "source": [
    "[![Open In Colab](https://colab.research.google.com/assets/colab-badge.svg)](https://colab.research.google.com/github/stat10/DS10-Python-HW/blob/master/HW07_dataframes.ipynb)"
   ]
  },
  {
   "cell_type": "markdown",
   "metadata": {},
   "source": [
    "## Homework 07 Exercises\n",
    "\n",
    "The following exercises are based on the material from Lab 7. Feel free to open the Python notebook for [Lab 7](https://colab.research.google.com/github/AllenDowney/ElementsOfDataScience/blob/master/07_dataframes.ipynb) for reference. \n",
    "\n",
    "Since we will exclusively use the `pandas` library for creating and manipulating dataframes, let's import it right now. We will also be plotting histograms so will need to import the `matplotlib` library as well."
   ]
  },
  {
   "cell_type": "code",
   "execution_count": 1,
   "metadata": {},
   "outputs": [],
   "source": [
    "import pandas as pd\n",
    "import matplotlib.pyplot as plt"
   ]
  },
  {
   "cell_type": "markdown",
   "metadata": {},
   "source": [
    "Next, let's import a CSV file that we will work with. Keeping with the theme of looking at fuel efficiency, we will explore a dataset from the Environmental Protection Agency (EPA). This file contains fuel economy data from vehicle testing done at the EPA's National Vehicle and Fuel Emissions Laboratory in Ann Arbor, Michigan, and by vehicle manufacturers with oversight by EPA downloaded from [here](https://www.fueleconomy.gov/feg/download.shtml). As needed go through the documentation for the data available at [this page](https://www.fueleconomy.gov/feg/ws/index.shtml#vehicle). The file has already been downloaded and hosted on our Github repository. Simply run the cell below to download."
   ]
  },
  {
   "cell_type": "code",
   "execution_count": null,
   "metadata": {},
   "outputs": [],
   "source": [
    "import os\n",
    "\n",
    "if not os.path.exists('vehicles.csv'):\n",
    "    !wget https://raw.githubusercontent.com/stat10/DS10-Python-HW/master/Data/vehicles.csv"
   ]
  },
  {
   "cell_type": "markdown",
   "metadata": {},
   "source": [
    "Now, let's start exploring!"
   ]
  },
  {
   "cell_type": "markdown",
   "metadata": {},
   "source": [
    "**Exercise 1a:** Create a dataframe called `vehicle_df` by reading in the `vehicles.csv` file using the `pandas` function called `read_csv` and display the first 5 rows. "
   ]
  },
  {
   "cell_type": "code",
   "execution_count": null,
   "metadata": {},
   "outputs": [],
   "source": [
    "# Solution\n"
   ]
  },
  {
   "cell_type": "markdown",
   "metadata": {},
   "source": [
    "**1b:** How many columns does the dataframe have? You might find this from running the `head()` function above. However, one way to do this programmatically is to find the length of the result of the `columns` attribute of the dataframe."
   ]
  },
  {
   "cell_type": "code",
   "execution_count": null,
   "metadata": {},
   "outputs": [],
   "source": [
    "# Solution\n"
   ]
  },
  {
   "cell_type": "markdown",
   "metadata": {},
   "source": [
    "**1c:** How many rows does the dataset have? *Suggestion:* Use the `shape` attribute of the dataframe. The result of using `shape` attribute is a tuple that contains the rows (element 0) and columns (element 1). This is of course another way to find the number of coulmns in the dataframe."
   ]
  },
  {
   "cell_type": "code",
   "execution_count": null,
   "metadata": {},
   "outputs": [],
   "source": [
    "# Solution\n"
   ]
  },
  {
   "cell_type": "markdown",
   "metadata": {},
   "source": [
    "**1d:** Display all the column names in the dataframe and as needed go through the [documentation](https://www.fueleconomy.gov/feg/ws/index.shtml#vehicle) for the dataset to figure out what each coulmn represents."
   ]
  },
  {
   "cell_type": "code",
   "execution_count": null,
   "metadata": {},
   "outputs": [],
   "source": [
    "# Solution\n"
   ]
  },
  {
   "cell_type": "markdown",
   "metadata": {},
   "source": [
    "**Exercise 2a:** Find out which column represents the name of the manufacturer of the vehicles listed in the dataset. Then, assign the value of that column to a variable called `makes`. "
   ]
  },
  {
   "cell_type": "code",
   "execution_count": null,
   "metadata": {},
   "outputs": [],
   "source": [
    "# Solution\n"
   ]
  },
  {
   "cell_type": "markdown",
   "metadata": {},
   "source": [
    "**2b:** The `makes` variable contains the value for each row and thus will have 42125 number of entries. Print a list of the names of the different manufacturers that appear in the `makes` variable without repeating their names. Also, find out how many different manufacturers appear in this dataset.\n",
    "\n",
    "*Hint:* You could find this information using the function `value_counts`, instead try using the function called `unique`."
   ]
  },
  {
   "cell_type": "code",
   "execution_count": null,
   "metadata": {},
   "outputs": [],
   "source": [
    "# Solution\n"
   ]
  },
  {
   "cell_type": "markdown",
   "metadata": {},
   "source": [
    "**2c:** Which are the top five manufacturers appearing in this dateset? Also, list the number of entries for each of those top five manufacturers."
   ]
  },
  {
   "cell_type": "code",
   "execution_count": null,
   "metadata": {},
   "outputs": [],
   "source": [
    "# Solution\n"
   ]
  },
  {
   "cell_type": "markdown",
   "metadata": {},
   "source": [
    "**Exercise 3a:** Display the summary statistics for the column that represents the combined fuel efficiency of vehicles with fuelType1."
   ]
  },
  {
   "cell_type": "code",
   "execution_count": null,
   "metadata": {},
   "outputs": [],
   "source": [
    "# Solution\n"
   ]
  },
  {
   "cell_type": "markdown",
   "metadata": {},
   "source": [
    "**3b:** There are columns in the dataset representing the fuel efficiency on city roads as well as on highways. On the same plot, show histograms of the city and highway fuel efficiency of all vehicles using a single type of fuel. Make sure to label the axes of the histogram and also provide an appropriate title. Try to make your plot look like the image below. \n",
    "![alt text](https://raw.githubusercontent.com/stat10/DS10-Python-HW/master/Images/hist1.png)\n",
    "\n",
    "*Hint:* The `hist` function can be provided a list of arrays instead of a single array. The `linewidth` argument can be used to increase the thickness of the lines representing the bin edges."
   ]
  },
  {
   "cell_type": "code",
   "execution_count": null,
   "metadata": {},
   "outputs": [],
   "source": [
    "# Solution\n"
   ]
  },
  {
   "cell_type": "markdown",
   "metadata": {},
   "source": [
    "**Exercise 4a:** As you might notice the histogram is squished to the left due to some outliers which are most likely electric vehicles. The MPG equivalent for electric vehicles is based on a conversion where 33.7 kilowatt-hours of electricity is equivalent to one gallon of gasoline. For some comparisons we might want to leave out the EVs and only look at the actual MPG measure. One way to discard the EVs is simply discard MPG values higher than a threshold, but that leaves us with a question of finding an appropriate threshold. Luckily, the dataset also contains a column that specifies the type of fuel used by the cars.\n",
    "\n",
    "Find the column that contains the type of fuel for each vehicle that uses a single fuel and display all the unique values for it."
   ]
  },
  {
   "cell_type": "code",
   "execution_count": null,
   "metadata": {},
   "outputs": [],
   "source": [
    "# Solution\n"
   ]
  },
  {
   "cell_type": "markdown",
   "metadata": {},
   "source": [
    "**4b:** Create a Boolean series called `non_ev` using the column you found in the previous question where the entries are `False` for all vehicles where the type of fuel is electric. Also, print out how many rows contain vehicles that use electricity as fuel."
   ]
  },
  {
   "cell_type": "code",
   "execution_count": null,
   "metadata": {},
   "outputs": [],
   "source": [
    "# Solution\n"
   ]
  },
  {
   "cell_type": "markdown",
   "metadata": {},
   "source": [
    "**4c:** Filter the city and highway fuel efficiency columns using the `non_ev` Boolean series and replot the histogram from above using 20 bins. "
   ]
  },
  {
   "cell_type": "code",
   "execution_count": null,
   "metadata": {},
   "outputs": [],
   "source": [
    "# Solution\n"
   ]
  },
  {
   "cell_type": "code",
   "execution_count": null,
   "metadata": {},
   "outputs": [],
   "source": []
  }
 ],
 "metadata": {
  "kernelspec": {
   "display_name": "Python 3",
   "language": "python",
   "name": "python3"
  },
  "language_info": {
   "codemirror_mode": {
    "name": "ipython",
    "version": 3
   },
   "file_extension": ".py",
   "mimetype": "text/x-python",
   "name": "python",
   "nbconvert_exporter": "python",
   "pygments_lexer": "ipython3",
   "version": "3.6.2"
  }
 },
 "nbformat": 4,
 "nbformat_minor": 2
}
