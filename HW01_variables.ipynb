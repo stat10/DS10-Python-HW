{
 "cells": [
  {
   "cell_type": "markdown",
   "metadata": {},
   "source": [
    "<a href=\"https://colab.research.google.com/github/stat10/DS10-Python-HW/blob/master/HW01_variables.ipynb\" target=\"_parent\"><img src=\"https://colab.research.google.com/assets/colab-badge.svg\" alt=\"Open In Colab\"/></a>"
   ]
  },
  {
   "cell_type": "markdown",
   "metadata": {},
   "source": [
    "## Instructions\n",
    "\n",
    "- If you haven't watched the video on \"[Mental model for Colab](https://www.youtube.com/watch?v=eIY-PsYBrPs)\" please clink on the link and watch it\n",
    "\n",
    "- Click on the \"Open in Colab\" button above\n",
    "\n",
    "- When the file opens in Google Colab, click on the \"Copy to Drive\" button in the toolbar  \n",
    "![alt text](https://raw.githubusercontent.com/stat10/DS10-Python-HW/master/Images/copytodrive.png)\n",
    "\n",
    "- If you'd like, click on the title of the notebook and rename the notebook to \"HW01_variables_yourname\"\n",
    "\n",
    "- Now, edit the cells with your answers"
   ]
  },
  {
   "cell_type": "markdown",
   "metadata": {},
   "source": [
    "## Homework 01 Exercises\n",
    "\n",
    "The following exercises are based on the material from Lab 1. Feel free to open the Python notebook for Lab 1 for reference. You might need to use the package `NumPy` for some of the exercise questions."
   ]
  },
  {
   "cell_type": "markdown",
   "metadata": {},
   "source": [
    "**Exercise 1:** Create a variable named `y`, assign it a value of $-17.579215 \\times 10^{15}$, and display the value of `y`. The result should be `-1.7579215e+16`."
   ]
  },
  {
   "cell_type": "code",
   "execution_count": null,
   "metadata": {},
   "outputs": [],
   "source": [
    "# Solution\n"
   ]
  },
  {
   "cell_type": "markdown",
   "metadata": {},
   "source": [
    "**Exercise 2:** Write a Python expression that raises $20\\times 3$ to the power $-2\\times 2$. The answer should be `7.71604938271605e-08`"
   ]
  },
  {
   "cell_type": "code",
   "execution_count": null,
   "metadata": {
    "scrolled": true
   },
   "outputs": [],
   "source": [
    "# Solution\n"
   ]
  },
  {
   "cell_type": "markdown",
   "metadata": {},
   "source": [
    "**Exercise 3:** Using the answer from the previous exercise, confirm that $\\sin x \\approx x$ for $x \\ll 1$."
   ]
  },
  {
   "cell_type": "code",
   "execution_count": null,
   "metadata": {},
   "outputs": [],
   "source": [
    "# Solution\n"
   ]
  },
  {
   "cell_type": "markdown",
   "metadata": {},
   "source": [
    "**Exercise 4:** In the vein of the interest calculation example from Lab 1, suppose we have the following formula for computing monthly payments, $c$, on a house you want to purchase with a loan from a bank [from Wikipedia](https://en.wikipedia.org/wiki/Compound_interest#Periodic_compounding):\n",
    "\n",
    "$c=\\frac{Pr}{\\left[1-{\\frac {\\large 1}{{\\Large (1+r)^n}}}\\right]}$\n",
    "\n",
    "where:\n",
    "\n",
    "* $P$ is the amount borrowed from the bank (i.e. the principal)\n",
    "* $r$ is the monthly interest rate\n",
    "* $n$ is the total number of payments\n",
    "\n",
    "**a:** Suppose we borrow $\\$100000$ at a monthly interest rate of $0.01$, what would be the monthly payment we need to make if $n=120$? Translate the formula above into Python code and calculate the value of $c$. You can check the calculations below by using the mortgage calculator at [Nerdwallet](https://www.nerdwallet.com/mortgages/mortgage-payment-calculator). (Look at only Principal & interest.)"
   ]
  },
  {
   "cell_type": "code",
   "execution_count": null,
   "metadata": {},
   "outputs": [],
   "source": [
    "# Solution\n"
   ]
  },
  {
   "cell_type": "markdown",
   "metadata": {},
   "source": [
    "**b:** Suppose the annual interest rate is 5%, what would be the monthly payment?\n",
    "\n",
    "*Hint:* Note that $r$ in the formula is the monthly interest rate. You need to divide the annual rate (which is 0.05) by 12."
   ]
  },
  {
   "cell_type": "code",
   "execution_count": null,
   "metadata": {},
   "outputs": [],
   "source": [
    "# Solution\n"
   ]
  },
  {
   "cell_type": "markdown",
   "metadata": {},
   "source": [
    "**c:** Suppose you purchase a house costing $\\$250000$ and make a down payment of $\\$50000$. The annual interest rate is $4\\%$ and the mortgage duration is $15$ years. What woud be the monthly payment?"
   ]
  },
  {
   "cell_type": "code",
   "execution_count": null,
   "metadata": {},
   "outputs": [],
   "source": [
    "# Solution\n"
   ]
  },
  {
   "cell_type": "markdown",
   "metadata": {},
   "source": [
    "**d:** Applying your algebra skills, solve the previous equation for $P$.  Now use the formula you just derived to answer this question.\n",
    "\n",
    "How much of a house (i.e. the principal) can you afford if you can make no more than $\\$1000$ a month in payment? As before, assume the annual interest rate to be $4\\%$ and the morgage duration to be 15 years."
   ]
  },
  {
   "cell_type": "code",
   "execution_count": null,
   "metadata": {},
   "outputs": [],
   "source": [
    "# Solution\n"
   ]
  },
  {
   "cell_type": "markdown",
   "metadata": {},
   "source": [
    "## Instructions for submitting the HW notebook"
   ]
  },
  {
   "cell_type": "markdown",
   "metadata": {},
   "source": [
    "After you are done with the exercise questions and want to submit your HW notebook, follow the steps below:\n",
    "- Click on the \"Share\" button in the top right-hand corner\n",
    "![alt text](https://raw.githubusercontent.com/stat10/DS10-Python-HW/master/Images/Share1.png)\n",
    "\n",
    "- In the \"share with others\" window that appears, click on \"Get shareable link\"\n",
    "![alt text](https://raw.githubusercontent.com/stat10/DS10-Python-HW/master/Images/Share2.png)\n",
    "\n",
    "- Make sure that the sharing option says \"Anyone with Google Apps for Harvard can **edit**\" \n",
    "![alt text](https://raw.githubusercontent.com/stat10/DS10-Python-HW/master/Images/Share3.png)\n",
    "\n",
    "- Copy and paste that link, and label it clearly in the document that you submit to Canvas.\n",
    "- **You are fully responsible to make sure the link you submit is viewable and editable by the TFs (any link that does not work would automatically result in a score of zero)**"
   ]
  },
  {
   "cell_type": "code",
   "execution_count": null,
   "metadata": {},
   "outputs": [],
   "source": []
  }
 ],
 "metadata": {
  "kernelspec": {
   "display_name": "Python 3",
   "language": "python",
   "name": "python3"
  },
  "language_info": {
   "codemirror_mode": {
    "name": "ipython",
    "version": 3
   },
   "file_extension": ".py",
   "mimetype": "text/x-python",
   "name": "python",
   "nbconvert_exporter": "python",
   "pygments_lexer": "ipython3",
   "version": "3.6.2"
  }
 },
 "nbformat": 4,
 "nbformat_minor": 2
}
