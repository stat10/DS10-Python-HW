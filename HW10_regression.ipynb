{
 "cells": [
  {
   "cell_type": "markdown",
   "metadata": {},
   "source": [
    "## Homework 10 Exercises\n",
    "\n",
    "The following exercises are based on the material from [Lab 10](https://colab.research.google.com/github/AllenDowney/ElementsOfDataScience/blob/master/10_regression.ipynb). You will, yet again, explore the same housing affordability dataset from the [American Housing Survey](https://www.huduser.gov/portal/pdrdatas_landing.html) as HW 8 and 9. In these exercises, you will develop a model for some of the relationships in the dataset using multiple and logistic regression.\n",
    "\n",
    "Run the cells below to import relevant libraries and load the data into a dataframe."
   ]
  },
  {
   "cell_type": "code",
   "execution_count": null,
   "metadata": {},
   "outputs": [],
   "source": [
    "import pandas as pd\n",
    "import matplotlib.pyplot as plt\n",
    "import numpy as np\n",
    "import statsmodels.formula.api as smf"
   ]
  },
  {
   "cell_type": "code",
   "execution_count": null,
   "metadata": {},
   "outputs": [],
   "source": [
    "# Download data\n",
    "import os\n",
    "if not os.path.exists('thads2013n.csv'):\n",
    "    !wget https://raw.githubusercontent.com/stat10/DS10-Python-HW/master/Data/thads2013n.csv\n",
    "\n",
    "# Create dataframe\n",
    "housing_df = pd.read_csv('thads2013n.csv')\n",
    "housing_df.head()"
   ]
  },
  {
   "cell_type": "markdown",
   "metadata": {},
   "source": [
    "**Exercise 1a:** You have visualized the relationship between the monthly utility cost as a function of the head of household. The figure below shows the scatter plot from HW09. \n",
    "![alt text](https://raw.githubusercontent.com/stat10/DS10-Python-HW/master/Images/scatter.png)\n",
    "\n",
    "As must have observed, there is a distinct relationship but it is not quite obvious from the scatter plot. Let's start by making this relationship clearer by grouping and averaging. Clean up the `AGE1` and `UTILITY` data by replacing the negative values for age and the zero values for utility cost by `np.nan` in place in the dataframe. Then, drop all the `np.nan` from the dataframe.\n",
    "\n",
    "*Hint:* Use the keyword `inplace=True` in the `replace` method. Use the `dropna` method also with `inplace=True` to get rid of the `np.nan`."
   ]
  },
  {
   "cell_type": "code",
   "execution_count": null,
   "metadata": {},
   "outputs": [],
   "source": [
    "# Solution\n"
   ]
  },
  {
   "cell_type": "markdown",
   "metadata": {},
   "source": [
    "**1b:** Now, group the `housing_df` dataframe by the column `AGE1` and calculate the mean monthly utility cost for each age group. Plot the mean utility cost as a function of age to display the relationship. This plot should give you a much clearer relationship compared to the scatter plot of the raw data."
   ]
  },
  {
   "cell_type": "code",
   "execution_count": null,
   "metadata": {},
   "outputs": [],
   "source": [
    "# Solution\n"
   ]
  },
  {
   "cell_type": "markdown",
   "metadata": {},
   "source": [
    "**1c**: Use the ordinary least squares method from the `statsmodels` library to create a linear regression model between utility cost and age. Calculate the predicted mean utility cost using the model for a linearly spaced array containing ages 10 to 100. Plot the data from above (*i.e* the mean utility cost grouped by age) and the model predictions on the same plot. As you might expect, from looking at the relationship, a linear model does not fit the data very well. "
   ]
  },
  {
   "cell_type": "code",
   "execution_count": null,
   "metadata": {},
   "outputs": [],
   "source": [
    "# Solution\n"
   ]
  },
  {
   "cell_type": "markdown",
   "metadata": {},
   "source": [
    "**1d:** Now, use the ordinary least squares method again, but this time, include a second-order non-linear term for the age, *i.e* `AGE1**2`, in the model. Calculate the predictions from your second-order non-linear model for the same age range and plot the results as above.  \n",
    "\n",
    "*Tips:* As you did in lab 10, define a new column in your dataframe, say `AGE2` that holds `AGE1**2`. "
   ]
  },
  {
   "cell_type": "code",
   "execution_count": null,
   "metadata": {},
   "outputs": [],
   "source": [
    "# Solution\n"
   ]
  },
  {
   "cell_type": "markdown",
   "metadata": {},
   "source": [
    "**1e:** Let's try one more model, this time with a third-order term, *i.e.* `AGE1**3`. Calculate and plot the predictions for the third-order non-linear model. \n",
    "\n",
    "General note: As you might notice, the thrid order model fits the data much better. In general, you can always increase the polynomial order of the fit and get a model that fits the data better, however, this does not always produce the \"best\" model. There is always a trade-off between how good a model fits existing data and how useful its predictions are. This is commonly refered to as the [Bias-Variance trade-off](https://en.wikipedia.org/wiki/Bias–variance_tradeoff)."
   ]
  },
  {
   "cell_type": "code",
   "execution_count": null,
   "metadata": {},
   "outputs": [],
   "source": [
    "# Solution\n"
   ]
  },
  {
   "cell_type": "markdown",
   "metadata": {},
   "source": [
    "**Exercise 2:** In this exercise, we will explore whether we can use the age of the head of household to predict whether or not they own the house or rent. We will use logistic regression to create a model for the probability of owning/renting given the age of the head of household. Complete the subparts below."
   ]
  },
  {
   "cell_type": "markdown",
   "metadata": {},
   "source": [
    "**2a:** In the housing dataset, there is a column called `OWNRENT` that contains information on whether the occupant owns or rents the unit. The value of `'1'` coressponds to own and `'2'` to rent, respectively. For our logistic regression model, we want need the categorical data to be recoded to be either `0` or `1`. Modify the `OWNRENT` column so that own coressponds to an `int` value of 1, while rent coressponds to an `int` value of 0. Show the frequency counts for own and rent before and after the modification.\n",
    "\n",
    "*Hints:* \n",
    "- Use the `replace` method along with the `inplace` keyword to modify the dataframe.\n",
    "- The values of the `OWNRENT` column should be integers and not strings.\n",
    "- Use `value_counts` to display the counts for each unique value."
   ]
  },
  {
   "cell_type": "code",
   "execution_count": null,
   "metadata": {},
   "outputs": [],
   "source": [
    "# Solution\n"
   ]
  },
  {
   "cell_type": "markdown",
   "metadata": {},
   "source": [
    "**2b:** Group the `housing_df` dataframe by `AGE1` and calculate the mean of the `OWNRENT` column."
   ]
  },
  {
   "cell_type": "code",
   "execution_count": null,
   "metadata": {},
   "outputs": [],
   "source": [
    "# Solution\n"
   ]
  },
  {
   "cell_type": "markdown",
   "metadata": {},
   "source": [
    "**2c:** Create a logistic regression model for `OWNRENT` using the `AGE1` and `AGE2` variables. Use the model to predict the probability that someone owns their house as a function of age in the range 10 to 100. Plot the grouped data from above and the predictions of the model on a figure."
   ]
  },
  {
   "cell_type": "code",
   "execution_count": null,
   "metadata": {},
   "outputs": [],
   "source": [
    "# Solution\n"
   ]
  },
  {
   "cell_type": "markdown",
   "metadata": {},
   "source": [
    "**2d:** Using your model, find the age in years when the probability of owning becomes higher than renting (*i.e.* probability of owning becomes larger than 0.5). Print out the results of the prediction showing the age at which this transition occurs.\n",
    "\n",
    "*Hint:* From the plot above you can estimate where this transition occurs and narrow down the range of ages used in the `predict` function. Print the output of the `predict` function to display the numeric predictions."
   ]
  },
  {
   "cell_type": "code",
   "execution_count": null,
   "metadata": {},
   "outputs": [],
   "source": [
    "# Solution\n"
   ]
  },
  {
   "cell_type": "code",
   "execution_count": null,
   "metadata": {},
   "outputs": [],
   "source": []
  }
 ],
 "metadata": {
  "kernelspec": {
   "display_name": "Python 3",
   "language": "python",
   "name": "python3"
  },
  "language_info": {
   "codemirror_mode": {
    "name": "ipython",
    "version": 3
   },
   "file_extension": ".py",
   "mimetype": "text/x-python",
   "name": "python",
   "nbconvert_exporter": "python",
   "pygments_lexer": "ipython3",
   "version": "3.6.2"
  }
 },
 "nbformat": 4,
 "nbformat_minor": 4
}
