{
 "cells": [
  {
   "cell_type": "markdown",
   "metadata": {},
   "source": [
    "## Homework 03 Exercises\n",
    "\n",
    "The following exercises are based on the material from Lab 3. Feel free to open the Python notebook for [Lab 3](https://colab.research.google.com/github/AllenDowney/ElementsOfDataScience/blob/master/03_arrays.ipynb) for reference. You might need to import the `NumPy` module for this homework exercise."
   ]
  },
  {
   "cell_type": "markdown",
   "metadata": {},
   "source": [
    "**Exercise 1:** The image below shows the depths at different locations in a lake. Using this answer the following questions.\n",
    "![alt text](https://raw.githubusercontent.com/stat10/DS10-Python-HW/master/Images/River-depths.png)"
   ]
  },
  {
   "cell_type": "markdown",
   "metadata": {},
   "source": [
    "**a** Create a `NumPy` array called `depth` with the numbers shown in the image above and calculate the mean depth of the lake."
   ]
  },
  {
   "cell_type": "code",
   "execution_count": null,
   "metadata": {},
   "outputs": [],
   "source": [
    "# Solution\n"
   ]
  },
  {
   "cell_type": "markdown",
   "metadata": {},
   "source": [
    "**b** A very useful skill when it comes to programming is to be able to read and understand the documentation for a language. Python and the module `NumPy` specifically have very good documentation. Use [this link](https://docs.scipy.org/doc/numpy/reference/generated/numpy.average.html) to look up the function `np.average`. Then, run the code below and briefly explain what the code below does and what is the difference between the functions `np.mean` and `np.average`. *Suggestion:* Also look up (do a Google search) the documentation for `np.mean`. Insert a new Text cell below the `# Code` cell to type in your explanation."
   ]
  },
  {
   "cell_type": "code",
   "execution_count": null,
   "metadata": {},
   "outputs": [],
   "source": [
    "# Code\n",
    "w = np.array([1, 1, 1, 0.1, 1, 1, 1])\n",
    "avg_depth = np.average(depth, weights=w)\n",
    "avg_depth"
   ]
  },
  {
   "cell_type": "markdown",
   "metadata": {},
   "source": [
    "*Solution (Explanation):* Double-click to enter text\n"
   ]
  },
  {
   "cell_type": "markdown",
   "metadata": {},
   "source": [
    "**Exercise 2**: The image below shows a plot of average monthly temperatures in Boston. The numbers on the top of the markers indicate average day temperature (in Celcius) for that month while the numbers at the bottom indicate average night temperatures. Using this chart, please answer the following questions.\n",
    "![alt text](https://raw.githubusercontent.com/stat10/DS10-Python-HW/master/Images/boston-average-monthly-temperatures.png)"
   ]
  },
  {
   "cell_type": "markdown",
   "metadata": {},
   "source": [
    "**a** Create two arrays, one containing the average day temperatures for each month and the other with the average night temperature for each month. For each month, calculate by how many degress are days hotter than nights, i.e. the difference between the average day and night temperatures."
   ]
  },
  {
   "cell_type": "code",
   "execution_count": null,
   "metadata": {},
   "outputs": [],
   "source": [
    "# Solution\n"
   ]
  },
  {
   "cell_type": "markdown",
   "metadata": {},
   "source": [
    "**b** Calculate by what percentage are nights colder than days for each month. Also, find what is the mininum and maximum percentage differences between the day and night temperatures."
   ]
  },
  {
   "cell_type": "code",
   "execution_count": null,
   "metadata": {},
   "outputs": [],
   "source": [
    "# Solution (percentage difference)\n"
   ]
  },
  {
   "cell_type": "code",
   "execution_count": null,
   "metadata": {},
   "outputs": [],
   "source": [
    "# Solution (min and max)\n"
   ]
  },
  {
   "cell_type": "markdown",
   "metadata": {},
   "source": [
    "**c** What is the average mid-point temperature for each month? (*Hint:* The mid-point temperature is the middle of the average day and night temperatures)"
   ]
  },
  {
   "cell_type": "code",
   "execution_count": null,
   "metadata": {},
   "outputs": [],
   "source": [
    "# Solution\n"
   ]
  },
  {
   "cell_type": "markdown",
   "metadata": {},
   "source": [
    "**d** We would like to summarize the data into one number that tells how cold the nights are compared to the days in Boston. There are many ways to summarize this information. Compute the following summaries:\n",
    "1. mean of relative percentage differences for each month\n",
    "2. relative percentage difference from the mean of all months' day and night temperatures \n",
    "3. relative percentage difference from the median of all months' day and night temperatures (*Hint:* Use the function `np.median` to compute the median)\n",
    "\n",
    "For each summary, write one sentence below the corressponding code solution cell (by inserting a text cell) to explain what the number means."
   ]
  },
  {
   "cell_type": "code",
   "execution_count": null,
   "metadata": {},
   "outputs": [],
   "source": [
    "# Solution 1\n"
   ]
  },
  {
   "cell_type": "markdown",
   "metadata": {},
   "source": [
    "*Type in explanation here:* (double click to enter text)\n"
   ]
  },
  {
   "cell_type": "code",
   "execution_count": null,
   "metadata": {},
   "outputs": [],
   "source": [
    "# Solution 2\n"
   ]
  },
  {
   "cell_type": "markdown",
   "metadata": {},
   "source": [
    "*Type in explanation here:* (double click to enter text)\n"
   ]
  },
  {
   "cell_type": "code",
   "execution_count": null,
   "metadata": {},
   "outputs": [],
   "source": [
    "# Solution 3\n"
   ]
  },
  {
   "cell_type": "markdown",
   "metadata": {},
   "source": [
    "*Type in explanation here:* (double click to enter text)\n"
   ]
  },
  {
   "cell_type": "code",
   "execution_count": null,
   "metadata": {},
   "outputs": [],
   "source": []
  }
 ],
 "metadata": {
  "kernelspec": {
   "display_name": "Python 3",
   "language": "python",
   "name": "python3"
  },
  "language_info": {
   "codemirror_mode": {
    "name": "ipython",
    "version": 3
   },
   "file_extension": ".py",
   "mimetype": "text/x-python",
   "name": "python",
   "nbconvert_exporter": "python",
   "pygments_lexer": "ipython3",
   "version": "3.6.2"
  }
 },
 "nbformat": 4,
 "nbformat_minor": 2
}
