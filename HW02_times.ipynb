{
 "cells": [
  {
   "cell_type": "markdown",
   "metadata": {},
   "source": [
    "## Homework 02 Exercises\n",
    "\n",
    "The following exercises are based on the material from Lab 2. Feel free to open the Python notebook for [Lab 2](https://colab.research.google.com/github/AllenDowney/ElementsOfDataScience/blob/master/02_times.ipynb) for reference. You might need to import the `pandas` and `numpy` modules for this homework exercise. If you need instructions on how to submit the notebook, please look at the [HW01_variables](https://colab.research.google.com/github/stat10/DS10-Python-HW/blob/master/HW01_variables.ipynb) notebook."
   ]
  },
  {
   "cell_type": "markdown",
   "metadata": {},
   "source": [
    "**Exercise 1:** Using the type `Timestamp` and the methods `day_name` and `month_name`, find the day and month of the date `07-05-1990`"
   ]
  },
  {
   "cell_type": "code",
   "execution_count": null,
   "metadata": {},
   "outputs": [],
   "source": [
    "# Solution\n"
   ]
  },
  {
   "cell_type": "markdown",
   "metadata": {},
   "source": [
    "**Exercise 2**: The `Timedelta` method can be used to add days to time stamp. To add 180 days to a time stamp, say `2003-07-12`, we would use the Timedelta method as: \n",
    "\n",
    "`pd.Timestamp('2003-07-12') + pd.Timedelta(days=180)`\n",
    "\n",
    "With this in mind, try to solve the following problem.\n",
    "\n",
    "A person was born on May 23, 2000. This person's father is exactly 10,000 days older than them. The father has another child born on July 20, 1998. Find:\n",
    "\n",
    "**a** What is the father's birthday?"
   ]
  },
  {
   "cell_type": "code",
   "execution_count": null,
   "metadata": {},
   "outputs": [],
   "source": [
    "# Solution\n"
   ]
  },
  {
   "cell_type": "markdown",
   "metadata": {},
   "source": [
    "**b** How many days passed between the father's birthday and the second child's birthday?"
   ]
  },
  {
   "cell_type": "code",
   "execution_count": null,
   "metadata": {},
   "outputs": [],
   "source": [
    "# Solution\n"
   ]
  },
  {
   "cell_type": "markdown",
   "metadata": {},
   "source": [
    "**Exercise 3**: One aspect of Python that is very important is that indentation matters. For example, in the `haversine` function that was constructed in the Lab notebook, the second and third line are indented. As the second line is a comment (i.e. preceeded by #), indentation is not important. However, indentation of the third line is important. You can try not indenting it and see what happens. \n",
    "\n",
    "Now, write a function to return the cosine of theta and compute the cosine for `theta = 1`. *Suggestion:* Copy the haversine function from lab and modify the name to cosine. Modify the third line to compute the cosine. You should get a result of `0.5403023058681398`."
   ]
  },
  {
   "cell_type": "code",
   "execution_count": null,
   "metadata": {},
   "outputs": [],
   "source": [
    "#Solution\n"
   ]
  },
  {
   "cell_type": "markdown",
   "metadata": {},
   "source": [
    "**Exercise 4**: Many airlines use what is known as the \"hub and spoke\" model for routing traffic. If a passenger wants to fly from a city A to a city B, they fly the passenger from city A to their hub H on one airplane and from their hub H to city B on a different airplane. \n",
    "\n",
    "Let us assume you are flying from your home town (city A) to Orlando, Florida (city B) and Boston is the hub (Hub H). Compute the hub and spoke distance (i.e. distance A to H + distance H to B). Compare it to point-to-point distance (i.e. direct distance from A to B). If your home town is in Massachusetts or outside the US, use Columbus, Ohio as your home town. *Suggestion:* Use the functions `haversine` and `haversine_distance` from the lab notebook for calculating the distances."
   ]
  },
  {
   "cell_type": "code",
   "execution_count": null,
   "metadata": {},
   "outputs": [],
   "source": [
    "#Solution \n"
   ]
  },
  {
   "cell_type": "code",
   "execution_count": null,
   "metadata": {},
   "outputs": [],
   "source": []
  }
 ],
 "metadata": {
  "kernelspec": {
   "display_name": "Python 3",
   "language": "python",
   "name": "python3"
  },
  "language_info": {
   "codemirror_mode": {
    "name": "ipython",
    "version": 3
   },
   "file_extension": ".py",
   "mimetype": "text/x-python",
   "name": "python",
   "nbconvert_exporter": "python",
   "pygments_lexer": "ipython3",
   "version": "3.6.2"
  }
 },
 "nbformat": 4,
 "nbformat_minor": 2
}
