{
 "cells": [
  {
   "cell_type": "markdown",
   "metadata": {},
   "source": [
    "## Homework 08 Exercises\n",
    "\n",
    "The following exercises are based on the material from [Lab 8](https://colab.research.google.com/github/AllenDowney/ElementsOfDataScience/blob/master/08_distributions.ipynb). You will be exploring distributions and using some of the data from the [American Housing Survey](https://www.huduser.gov/portal/pdrdatas_landing.html). Let's get started by installing and importing and some of the libraries that you will need."
   ]
  },
  {
   "cell_type": "code",
   "execution_count": null,
   "metadata": {},
   "outputs": [],
   "source": [
    "import pandas as pd\n",
    "import numpy as np\n",
    "import matplotlib.pyplot as plt\n",
    "from scipy.stats import norm\n",
    "import seaborn as sns"
   ]
  },
  {
   "cell_type": "code",
   "execution_count": null,
   "metadata": {},
   "outputs": [],
   "source": [
    "import sys\n",
    "IN_COLAB = 'google.colab' in sys.modules\n",
    "\n",
    "if IN_COLAB:\n",
    "    !pip install empiricaldist\n",
    "    \n",
    "from empiricaldist import Pmf\n",
    "from empiricaldist import Cdf"
   ]
  },
  {
   "cell_type": "markdown",
   "metadata": {},
   "source": [
    "**Exercise 1a:** Download the file `thads2013n.csv` from the following location `https://raw.githubusercontent.com/stat10/DS10-Python-HW/master/Data/`. Create a dataframe called `housing_df`, read the csv file into it, and display the first five rows. Print out how many rows this dataset contains. Also, print out the names of all the columns."
   ]
  },
  {
   "cell_type": "code",
   "execution_count": null,
   "metadata": {},
   "outputs": [],
   "source": [
    "# Solution\n"
   ]
  },
  {
   "cell_type": "markdown",
   "metadata": {},
   "source": [
    "**1b:** This dataset contains information on housing affordability in the United States. [This pdf file](https://www.huduser.gov/portal/datasets/hads/HADS_doc.pdf) contains the descriptions of the different variables  in the dateset as well as some explanations and sources. There is a column in the dataset that contains the number of rooms in a housing unit. Find that column (see Appendix A in the pdf), assign it to a variable called `numrooms`, and display the counts of all the unique values in that column sorted in an ascending order. "
   ]
  },
  {
   "cell_type": "code",
   "execution_count": null,
   "metadata": {},
   "outputs": [],
   "source": [
    "# Solution\n"
   ]
  },
  {
   "cell_type": "markdown",
   "metadata": {},
   "source": [
    "**1c:** Calculate the normalized probability mass function (PMF) of `numrooms`, print out the fraction of houses that have 5 rooms, and plot the PMF."
   ]
  },
  {
   "cell_type": "code",
   "execution_count": null,
   "metadata": {},
   "outputs": [],
   "source": [
    "# Solution\n"
   ]
  },
  {
   "cell_type": "markdown",
   "metadata": {},
   "source": [
    "**1d:** Now, calculate and plot the cumulative distribution function (CDF) of `numrooms`. Print out the percentage of housing units with 4 or fewer number of rooms. Also, print out the percentage of houses with 9 or more rooms."
   ]
  },
  {
   "cell_type": "code",
   "execution_count": null,
   "metadata": {},
   "outputs": [],
   "source": [
    "# Solution\n"
   ]
  },
  {
   "cell_type": "markdown",
   "metadata": {},
   "source": [
    "**Exercise 2a:** Find the column in the `housing_df` dataframe that contains the monthly utility cost. Is this data better represented using a PMF or a CDF? Briefly explain why. Plot the appropriate distribution.\n",
    "\n",
    "*Note:* The data for cost of utilities contains several entries with value `0`. Presumably these are houses that are vacant/deserted/foreclosed. Replace all the `0` values with `NaN` before creating the distribution."
   ]
  },
  {
   "cell_type": "code",
   "execution_count": null,
   "metadata": {},
   "outputs": [],
   "source": [
    "# Solution\n"
   ]
  },
  {
   "cell_type": "markdown",
   "metadata": {},
   "source": [
    "**2b:** Let's compare the monthly cost of utilities for different houses sizes, namely, houses with 4 or fewer rooms (small), between 5 and 7 rooms (medium), 8 or more rooms (large). To do this, first create appropriate Boolean series using conditions for the number of rooms. Then filter the cost of utilities using those Boolean series. Create and plot the CDFs of the utility costs for the three different house size categories. Print out the monthly utility cost for at least 50% of the houses in each of the three categories would."
   ]
  },
  {
   "cell_type": "code",
   "execution_count": null,
   "metadata": {},
   "outputs": [],
   "source": [
    "# Solution\n"
   ]
  },
  {
   "cell_type": "markdown",
   "metadata": {},
   "source": [
    "**Exercise 3a:** Create a normal distribution model for the monthly cost of utilities in houses across the US. Plot the normal distribution model and the CDF together to compare."
   ]
  },
  {
   "cell_type": "code",
   "execution_count": null,
   "metadata": {},
   "outputs": [],
   "source": [
    "# Solution\n"
   ]
  },
  {
   "cell_type": "markdown",
   "metadata": {},
   "source": [
    "**3b:** Create a kernel density estimate (KDE) plot of the monthly utility cost using the `seaborn` library. Compare the KDE plot with the normal PDF by plotting both on the same figure. "
   ]
  },
  {
   "cell_type": "code",
   "execution_count": null,
   "metadata": {},
   "outputs": [],
   "source": [
    "# Solution\n"
   ]
  },
  {
   "cell_type": "markdown",
   "metadata": {},
   "source": [
    "**3c:** What would you conclude from the comparison of the normal distribution model using a CDF versus a PDF?"
   ]
  },
  {
   "cell_type": "code",
   "execution_count": null,
   "metadata": {},
   "outputs": [],
   "source": [
    "# Solution\n"
   ]
  }
 ],
 "metadata": {
  "kernelspec": {
   "display_name": "Python 3",
   "language": "python",
   "name": "python3"
  },
  "language_info": {
   "codemirror_mode": {
    "name": "ipython",
    "version": 3
   },
   "file_extension": ".py",
   "mimetype": "text/x-python",
   "name": "python",
   "nbconvert_exporter": "python",
   "pygments_lexer": "ipython3",
   "version": "3.6.2"
  }
 },
 "nbformat": 4,
 "nbformat_minor": 2
}
