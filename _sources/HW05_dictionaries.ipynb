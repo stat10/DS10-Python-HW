{
 "cells": [
  {
   "cell_type": "markdown",
   "metadata": {},
   "source": [
    "## Homework 05 Exercises\n",
    "\n",
    "The following exercises are based on the material from Lab 5. Feel free to open the Python notebook for [Lab 5](https://colab.research.google.com/github/AllenDowney/ElementsOfDataScience/blob/master/05_dictionaries.ipynb) for reference."
   ]
  },
  {
   "cell_type": "markdown",
   "metadata": {},
   "source": [
    "**Exercise 1:** Below are the last six US Presidents and their ages at the time when they took office. "
   ]
  },
  {
   "cell_type": "markdown",
   "metadata": {},
   "source": [
    "| Name | Age at inauguration (years)|\n",
    "|---|---|\n",
    "|Donald Trump|70|\n",
    "|Barack Obama|47|\n",
    "|George W Bush|54|\n",
    "|Bill Clinton|46|\n",
    "|George H W Bush|64|\n",
    "|Ronald Reagan|69|"
   ]
  },
  {
   "cell_type": "markdown",
   "metadata": {},
   "source": [
    "**a:** Create a dictionary with the names as the keys and the ages as the values and print the dictionary."
   ]
  },
  {
   "cell_type": "code",
   "execution_count": null,
   "metadata": {},
   "outputs": [],
   "source": [
    "# Solution\n"
   ]
  },
  {
   "cell_type": "markdown",
   "metadata": {},
   "source": [
    "**b:** Add another entry to the dictionary corressponding to the president before Ronald Reagan and print the updated dictionary. *Hint:* Look up Jimmy Carter. "
   ]
  },
  {
   "cell_type": "code",
   "execution_count": null,
   "metadata": {},
   "outputs": [],
   "source": [
    "# Solution\n"
   ]
  },
  {
   "cell_type": "markdown",
   "metadata": {},
   "source": [
    "**c:** Write a `for` loop to go through each key value pair, find the oldest president and print out their name and age. \n",
    "\n",
    "*Suggestion:* The suggestion below is one of several different ways of achieving the same result. Create a variable say `max_age` with a value of `0` and another say `oldest_pres` with the value of a blank string. In the `for` loop that iterates through the key value pairs of the dictionary write an `if` statement to check whether the current `value` *i.e.* age is greater than `max_age`. If it is, then replace the value of `max_age` by that `value` and replace the value of `oldest_pres` by the `key`. Finally, print out the variables `oldest_pres` and `max_age`."
   ]
  },
  {
   "cell_type": "code",
   "execution_count": null,
   "metadata": {},
   "outputs": [],
   "source": [
    "# Solution\n"
   ]
  },
  {
   "cell_type": "markdown",
   "metadata": {},
   "source": [
    "**d:** Find the mean and median age of the last six US presidents using the dictionary you created, and print out the results.\n",
    "\n",
    "*Suggestion:* Again, there are many different ways to get these results and this suggestion is simply one of them. Import `numpy` and use the `mean` and `median` functions for your calculations. The inputs to these functions can be a list that you create from the dictionary values. The syntax to generate the list is as follows `my_list = list(my_dict.values())`."
   ]
  },
  {
   "cell_type": "code",
   "execution_count": null,
   "metadata": {},
   "outputs": [],
   "source": [
    "# Solution\n"
   ]
  },
  {
   "cell_type": "markdown",
   "metadata": {},
   "source": [
    "**Exercise 2:** In this exercise, we are going to download a random book from Project Gutenburg and do some word counting and frequency calculations like you did in Lab 5.\n",
    "\n",
    "First, if you go to the [Project Gutenberg](http://www.gutenberg.org) webpage you will notice that it says there are 61,329 free ebooks to download. Looking around the webpage for different books and the urls for the plain text files you might also notice that there is a specific pattern for the urls of the text files. For example one url to download *War and Peace* is `http://www.gutenberg.org/cache/epub/2600/pg2600.txt`. Simply by changing the number `2600`, which can from `1` to `61,329`, in the url one is able to access any of the 61,329 books. For example to download book number 1 the corressponding url would be `http://www.gutenberg.org/cache/epub/1/pg1.txt`."
   ]
  },
  {
   "cell_type": "markdown",
   "metadata": {},
   "source": [
    "**a:** Find a function from the `numpy` library that will allow you to pick an element of an array at random, and use that function to choose one random number from the range 1 to 61329. \n",
    "\n",
    "*Hint:* Use your favorite search engine to help you find the function and its documentation. Also, you can use the function `np.arange(start, stop, step)` to generate an array of integers, where `start` is the integer you want to begin from, `stop` is one less than the integer at which you want to end, and `step` is the spacing bwtween the integers. Try out the following code to see how `np.arange` works."
   ]
  },
  {
   "cell_type": "code",
   "execution_count": null,
   "metadata": {},
   "outputs": [],
   "source": [
    "print(np.arange(1, 10, 2))  # generates an array starting with 1 in steps of 2 ending at 9 (or less)\n",
    "print(np.arange(0, 8, 3))  # generates an array starting with 0 in steps of 3 ending at 7 (or less)"
   ]
  },
  {
   "cell_type": "code",
   "execution_count": null,
   "metadata": {},
   "outputs": [],
   "source": [
    "# Solution\n"
   ]
  },
  {
   "cell_type": "markdown",
   "metadata": {},
   "source": [
    "**b:** Now, write code to create a string that will corresspond to the url of the book from [Project Gutenberg](http://www.gutenberg.org) using your randomly chosen integer from above. Print out the string that you generate.\n",
    "\n",
    "*Hint:* The filename for *War and Peace* from the above url example is `pg2600.txt`. Use the function `str` to convert a number to a string and use `+` to concatenate two strings."
   ]
  },
  {
   "cell_type": "code",
   "execution_count": null,
   "metadata": {},
   "outputs": [],
   "source": [
    "# Solution\n"
   ]
  },
  {
   "cell_type": "markdown",
   "metadata": {},
   "source": [
    "**c:** Copy the string you generated above and use `wget` to download the corressponding randomly chosen book."
   ]
  },
  {
   "cell_type": "code",
   "execution_count": null,
   "metadata": {},
   "outputs": [],
   "source": [
    "# Solution\n"
   ]
  },
  {
   "cell_type": "markdown",
   "metadata": {},
   "source": [
    "**d:** Write code to open the book you downloaded above and print out all the words in the first sentence of one by one.\n",
    "\n",
    "*Suggestion:* Look at Lab 4 and/or Python HW 4 for the syntax to do this."
   ]
  },
  {
   "cell_type": "code",
   "execution_count": null,
   "metadata": {},
   "outputs": [],
   "source": [
    "# Solution\n"
   ]
  },
  {
   "cell_type": "markdown",
   "metadata": {},
   "source": [
    "**e:** Finally, find and print out the *ten* most commonly used words in your randomly chosen book. \n",
    "\n",
    "*Suggestion:* Look at Lab 5 for hints on how to this. You will need to import `collections` and use the `Counter` function."
   ]
  },
  {
   "cell_type": "code",
   "execution_count": null,
   "metadata": {},
   "outputs": [],
   "source": [
    "# Solutions\n"
   ]
  },
  {
   "cell_type": "code",
   "execution_count": null,
   "metadata": {},
   "outputs": [],
   "source": []
  }
 ],
 "metadata": {
  "kernelspec": {
   "display_name": "Python 3",
   "language": "python",
   "name": "python3"
  },
  "language_info": {
   "codemirror_mode": {
    "name": "ipython",
    "version": 3
   },
   "file_extension": ".py",
   "mimetype": "text/x-python",
   "name": "python",
   "nbconvert_exporter": "python",
   "pygments_lexer": "ipython3",
   "version": "3.6.2"
  }
 },
 "nbformat": 4,
 "nbformat_minor": 2
}
