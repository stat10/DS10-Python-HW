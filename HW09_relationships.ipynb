{
 "cells": [
  {
   "cell_type": "markdown",
   "metadata": {},
   "source": [
    "## Homework 09 Exercises\n",
    "\n",
    "The following exercises are based on the material from [Lab 9](https://colab.research.google.com/github/AllenDowney/ElementsOfDataScience/blob/master/09_relatioships.ipynb). You will again explore the same housing affordability dataset from the [American Housing Survey](https://www.huduser.gov/portal/pdrdatas_landing.html) as HW 8. In these exercises, you will be looking at some of the relationships between different columns of that data.\n",
    "\n",
    "Run the cells below to import relevant libraries and load the data into a dataframe."
   ]
  },
  {
   "cell_type": "code",
   "execution_count": null,
   "metadata": {},
   "outputs": [],
   "source": [
    "import pandas as pd\n",
    "import matplotlib.pyplot as plt\n",
    "import numpy as np\n",
    "import seaborn as sns\n",
    "from scipy.stats import linregress"
   ]
  },
  {
   "cell_type": "code",
   "execution_count": null,
   "metadata": {},
   "outputs": [],
   "source": [
    "# Download data\n",
    "import os\n",
    "if not os.path.exists('thads2013n.csv'):\n",
    "    !wget https://raw.githubusercontent.com/stat10/DS10-Python-HW/master/Data/thads2013n.csv\n",
    "\n",
    "# Create dataframe\n",
    "housing_df = pd.read_csv('thads2013n.csv')\n",
    "housing_df.head()"
   ]
  },
  {
   "cell_type": "markdown",
   "metadata": {},
   "source": [
    "**Exercise 1:** Let's explore whether there is a relationship between the monthly cost of utilities and the age of the head of a household. The column `AGE1` contains the age of the head of a household and `UTILITY` contains the average monthly utility cost. In this exercise you will create a scatter plot of the monthly utility cost *vs.* age. \n",
    "\n",
    "The default scatter plot will give you the figure on the left below. Complete the subparts below to make your scatter plot look like the one on the right. \n",
    "\n",
    "![alt text](https://raw.githubusercontent.com/stat10/DS10-Python-HW/master/Images/scatter_cmp.png)"
   ]
  },
  {
   "cell_type": "markdown",
   "metadata": {},
   "source": [
    "**1a:** Load the `AGE1` and `UTILITY` columns into variables and create a plot without any modifications using those variables. This should look like the figure on the left above."
   ]
  },
  {
   "cell_type": "code",
   "execution_count": null,
   "metadata": {},
   "outputs": [],
   "source": [
    "# Solution\n"
   ]
  },
  {
   "cell_type": "markdown",
   "metadata": {},
   "source": [
    "**1b:** Check the age and utility cost variables for unexpected values. For example, check what the minimum and maximum values in those variables are. Create variables with cleaned data by replacing the unexpected values with `np.nan`."
   ]
  },
  {
   "cell_type": "code",
   "execution_count": null,
   "metadata": {},
   "outputs": [],
   "source": [
    "# Solution\n"
   ]
  },
  {
   "cell_type": "markdown",
   "metadata": {},
   "source": [
    "**1b:** Create a scatter plot of the cleaned data. Add transparency to the markers, reduce the marker size, and change the limits of the axes appropriately. "
   ]
  },
  {
   "cell_type": "code",
   "execution_count": null,
   "metadata": {},
   "outputs": [],
   "source": [
    "# Solution\n"
   ]
  },
  {
   "cell_type": "markdown",
   "metadata": {},
   "source": [
    "**1c:** Add jitter to the age variable and create the final scatter plot. \n",
    "\n",
    "Note that when reporting age in years, one generally tends to round down. For example, a 20 year old will report being 20 years old from the day of their 20th birthday all the way until the day before their 21st birthday. So, one way to take this rounding down into context is to use a uniform random variable distributed between 0 and 1 instead of a normal random variable with mean 0. \n",
    "\n",
    "*Hint:* Look up `np.random.uniform()` for adding jitter to the age variable."
   ]
  },
  {
   "cell_type": "code",
   "execution_count": null,
   "metadata": {},
   "outputs": [],
   "source": [
    "# Solution\n"
   ]
  },
  {
   "cell_type": "markdown",
   "metadata": {},
   "source": [
    "**1d:** Briefly write what you observe in the relationship between utility cost and age of the head of household."
   ]
  },
  {
   "cell_type": "code",
   "execution_count": null,
   "metadata": {},
   "outputs": [],
   "source": [
    "# Solution\n"
   ]
  },
  {
   "cell_type": "markdown",
   "metadata": {},
   "source": [
    "**Exercise 2:** Let's visualize a relatively simpler relationship. In this exercise, you need to create a plot to visualize the relationship between the monthly cost of utilities and the number of rooms in a housing unit. Complete all the subparts below."
   ]
  },
  {
   "cell_type": "markdown",
   "metadata": {},
   "source": [
    "**2a:** The number of rooms can be found in the column `ROOMS`. Visualize the relationship between monthly utility cost and the number of rooms in a unit using scatter plots. You will of course notice that the number of rooms is a discrete variable. Create a figure with two subplots (see [Lab 9](https://colab.research.google.com/github/AllenDowney/ElementsOfDataScience/blob/master/09_relatioships.ipynb) to find code for creating subplots). On the left, display a scatter plot of utility cost *vs.* number of rooms and on the right, the same plot but with jitter added to the number of rooms variable. Briefly (in a couple of sentences), write your thoughts on the pros and cons of adding jitter to the number of rooms data to make it look continuous."
   ]
  },
  {
   "cell_type": "code",
   "execution_count": null,
   "metadata": {},
   "outputs": [],
   "source": [
    "# Solution\n"
   ]
  },
  {
   "cell_type": "markdown",
   "metadata": {},
   "source": [
    "**2b:** Now, visualize the same relationship (monthly utility cost *vs.* number of rooms) using a violin plot and a box plot. Again, create a figure with two subplots. On the left, display the violin plot and on the right, the box plot. Briefly, write your thoughts comparing the pros and cons of the violin plot and the box plot."
   ]
  },
  {
   "cell_type": "code",
   "execution_count": null,
   "metadata": {},
   "outputs": [],
   "source": [
    "# Solution\n"
   ]
  },
  {
   "cell_type": "markdown",
   "metadata": {},
   "source": [
    "**Exercise 3a:** In this exercise, let's look at the correlation matrix for a few columns in the dataset. Create a subset of the the housing dataset with columns corresponding to the following data.\n",
    "- Houinsg cost as a fraction of the income\n",
    "- Household income\n",
    "- Monthly utility cost\n",
    "- Monthly housing cost\n",
    "- Market value of house\n",
    "- Number of rooms\n",
    "- Number of bedrooms\n",
    "- Age of head of household\n",
    "- Average area median income \n",
    "- Year built\n",
    "\n",
    "Calculate and display the correlation matrix."
   ]
  },
  {
   "cell_type": "code",
   "execution_count": null,
   "metadata": {},
   "outputs": [],
   "source": [
    "# Solution\n"
   ]
  },
  {
   "cell_type": "markdown",
   "metadata": {},
   "source": [
    "**3b:** A correlation matrix like this is better visualized graphically instead of as a table of numbers. Create a heatmap of the correlation matrix. Use the function `heatmap` in the `seaborn` library. Documentation for heatmap can be found [here](http://seaborn.pydata.org/generated/seaborn.heatmap.html#seaborn.heatmap). Modify your heatmap and try to make it look like the image below. \n",
    "![alt text](https://raw.githubusercontent.com/stat10/DS10-Python-HW/master/Images/heatmap.png)\n",
    "*Hints:* \n",
    "- Use the command `plt.axis('image')` to create proportionate looking axes.\n",
    "- Use the command `plt.figure(figsize=(size_along_x, size_along_y))` to resize the figure and make it larger\n",
    "- Look up the documentation for `heatmap` and find the keyword that annotates each cell with the value of the data\n",
    "- Define a variable (a list would work best) that contains strings coressponding to axis labels and use the keywords `yticklabels` and `xticklabels` in the `heatmap` function to create your own axes labels (for example, `yticklabels=mylabels`)"
   ]
  },
  {
   "cell_type": "code",
   "execution_count": null,
   "metadata": {},
   "outputs": [],
   "source": [
    "# Solution\n"
   ]
  },
  {
   "cell_type": "markdown",
   "metadata": {},
   "source": [
    "**Exercise 4a:** You have visualized the relationship between the average monthly cost of utilities and the number of rooms in problem 2. Here, we will quantify that relationship using linear regression. Compute the linear regression between the variables containing the number of rooms and the utility cost data. Display the output of the linear regression. \n",
    "\n",
    "Note that in one of the earlier problems we had replaced certain values with `np.nan`, however `linregress` cannot handle `nan` so use the unmodified data for this part."
   ]
  },
  {
   "cell_type": "code",
   "execution_count": null,
   "metadata": {},
   "outputs": [],
   "source": [
    "# Solution\n"
   ]
  },
  {
   "cell_type": "markdown",
   "metadata": {},
   "source": [
    "**4b:** Calculate the line of best fit and create a figure with a scatter plot of the data and the best-fit line. For a better looking scatter plot, plot using the variable for number of rooms with jitter added and the utility cost with the zero values replaced by `np.nan`."
   ]
  },
  {
   "cell_type": "code",
   "execution_count": null,
   "metadata": {},
   "outputs": [],
   "source": [
    "# Solution\n"
   ]
  },
  {
   "cell_type": "markdown",
   "metadata": {},
   "source": [
    "**4c:** What is the predicted average montly utility cost for a house with 10 rooms? Use the linear regression output to calculate the predicted value and display it."
   ]
  },
  {
   "cell_type": "code",
   "execution_count": null,
   "metadata": {},
   "outputs": [],
   "source": [
    "# Solution\n"
   ]
  },
  {
   "cell_type": "code",
   "execution_count": null,
   "metadata": {},
   "outputs": [],
   "source": []
  }
 ],
 "metadata": {
  "kernelspec": {
   "display_name": "Python 3",
   "language": "python",
   "name": "python3"
  },
  "language_info": {
   "codemirror_mode": {
    "name": "ipython",
    "version": 3
   },
   "file_extension": ".py",
   "mimetype": "text/x-python",
   "name": "python",
   "nbconvert_exporter": "python",
   "pygments_lexer": "ipython3",
   "version": "3.6.2"
  }
 },
 "nbformat": 4,
 "nbformat_minor": 4
}
